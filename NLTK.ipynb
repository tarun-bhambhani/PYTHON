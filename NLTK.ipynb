{
 "cells": [
  {
   "cell_type": "code",
   "execution_count": 60,
   "metadata": {},
   "outputs": [],
   "source": [
    "from bs4 import BeautifulSoup\n",
    "import requests\n",
    "import urllib\n",
    "import matplotlib.pyplot as plt \n",
    "import nltk\n",
    "from nltk.corpus import wordnet,stopwords"
   ]
  },
  {
   "cell_type": "code",
   "execution_count": 15,
   "metadata": {},
   "outputs": [],
   "source": [
    "url = 'https://php.net/'\n",
    "\n",
    "#sending a web page request to the required webpage\n",
    "#storing the request in a variable \"r\"\n",
    "r = requests.get(url)"
   ]
  },
  {
   "cell_type": "code",
   "execution_count": 16,
   "metadata": {},
   "outputs": [],
   "source": [
    "#object conversion to beautifulsoup object\n",
    "soup = BeautifulSoup(r.content,'lxml')"
   ]
  },
  {
   "cell_type": "code",
   "execution_count": 17,
   "metadata": {},
   "outputs": [],
   "source": [
    "#Selecting title tag from the soup variable\n",
    "tit=soup.select('title')\n",
    "intro = []\n",
    "intro.append(tit[0].getText());"
   ]
  },
  {
   "cell_type": "code",
   "execution_count": 18,
   "metadata": {},
   "outputs": [
    {
     "data": {
      "text/plain": [
       "['PHP: Hypertext Preprocessor']"
      ]
     },
     "execution_count": 18,
     "metadata": {},
     "output_type": "execute_result"
    }
   ],
   "source": [
    "intro"
   ]
  },
  {
   "cell_type": "code",
   "execution_count": 24,
   "metadata": {},
   "outputs": [],
   "source": [
    "ini_p=soup.find_all('div',class_='blurb')"
   ]
  },
  {
   "cell_type": "code",
   "execution_count": 29,
   "metadata": {},
   "outputs": [
    {
     "data": {
      "text/plain": [
       "'\\nPHP is a popular general-purpose scripting language that is especially suited to web development.\\nFast, flexible and pragmatic, PHP powers everything from your blog to the most popular websites in the world.\\n'"
      ]
     },
     "execution_count": 29,
     "metadata": {},
     "output_type": "execute_result"
    }
   ],
   "source": [
    "ini_p[0].getText()"
   ]
  },
  {
   "cell_type": "code",
   "execution_count": 50,
   "metadata": {},
   "outputs": [],
   "source": [
    "text_only=soup.get_text()"
   ]
  },
  {
   "cell_type": "code",
   "execution_count": 51,
   "metadata": {},
   "outputs": [],
   "source": [
    "p=[]\n",
    "p=text_only.split()\n"
   ]
  },
  {
   "cell_type": "code",
   "execution_count": 45,
   "metadata": {},
   "outputs": [
    {
     "data": {
      "text/plain": [
       "<function TextIOWrapper.close()>"
      ]
     },
     "execution_count": 45,
     "metadata": {},
     "output_type": "execute_result"
    }
   ],
   "source": [
    "f= open(\"guru99.txt\",\"w+\")\n",
    "f.write(text_only)\n",
    "f.close"
   ]
  },
  {
   "cell_type": "code",
   "execution_count": 47,
   "metadata": {},
   "outputs": [],
   "source": [
    "f=open(\"guru99.txt\",\"r\")"
   ]
  },
  {
   "cell_type": "code",
   "execution_count": 48,
   "metadata": {},
   "outputs": [],
   "source": [
    "contentes=f.read()"
   ]
  },
  {
   "cell_type": "code",
   "execution_count": 49,
   "metadata": {},
   "outputs": [
    {
     "data": {
      "text/plain": [
       "\"\\n\\n\\n\\nPHP: Hypertext Preprocessor\\n\\n\\n\\n\\n\\n\\n\\n\\n\\n\\n\\n\\n\\n\\n\\n\\n\\n\\n\\n\\n\\n\\n\\n\\n\\nDownloads\\nDocumentation\\nGet Involved\\nHelp\\n\\n\\n\\n\\n\\n\\n\\n\\n\\nGetting Started\\nIntroduction\\nA simple tutorial\\nLanguage Reference\\nBasic syntax\\nTypes\\nVariables\\nConstants\\nExpressions\\nOperators\\nControl Structures\\nFunctions\\nClasses and Objects\\nNamespaces\\nErrors\\nExceptions\\nGenerators\\nReferences Explained\\nPredefined Variables\\nPredefined Exceptions\\nPredefined Interfaces and Classes\\nContext options and parameters\\nSupported Protocols and Wrappers\\n\\n\\nSecurity\\nIntroduction\\nGeneral considerations\\nInstalled as CGI binary\\nInstalled as an Apache module\\nSession Security\\nFilesystem Security\\nDatabase Security\\nError Reporting\\nUsing Register Globals\\nUser Submitted Data\\nMagic Quotes\\nHiding PHP\\nKeeping Current\\nFeatures\\nHTTP authentication with PHP\\nCookies\\nSessions\\nDealing with XForms\\nHandling file uploads\\nUsing remote files\\nConnection handling\\nPersistent Database Connections\\nSafe Mode\\nCommand line usage\\nGarbage Collection\\nDTrace Dynamic Tracing\\n\\n\\nFunction Reference\\nAffecting PHP's Behaviour\\nAudio Formats Manipulation\\nAuthentication Services\\nCommand Line Specific Extensions\\nCompression and Archive Extensions\\nCredit Card Processing\\nCryptography Extensions\\nDatabase Extensions\\nDate and Time Related Extensions\\nFile System Related Extensions\\nHuman Language and Character Encoding Support\\nImage Processing and Generation\\nMail Related Extensions\\nMathematical Extensions\\nNon-Text MIME Output\\nProcess Control Extensions\\nOther Basic Extensions\\nOther Services\\nSearch Engine Extensions\\nServer Specific Extensions\\nSession Extensions\\nText Processing\\nVariable and Type Related Extensions\\nWeb Services\\nWindows Only Extensions\\nXML Manipulation\\nGUI Extensions\\n\\n\\nKeyboard Shortcuts?\\nThis help\\nj\\nNext menu item\\nk\\nPrevious menu item\\ng p\\nPrevious man page\\ng n\\nNext man page\\nG\\nScroll to bottom\\ng g\\nScroll to top\\ng h\\nGoto homepage\\ng s\\nGoto search(current page)\\n/\\nFocus search box\\n\\n\\n\\n\\n\\n\\n\\n\\n\\n\\n\\nPHP is a popular general-purpose scripting language that is especially suited to web development.\\nFast, flexible and pragmatic, PHP powers everything from your blog to the most popular websites in the world.\\n\\n\\nDownload\\n7.1.30·Release Notes·Upgrading\\n7.2.19·Release Notes·Upgrading\\n7.3.6·Release Notes·Upgrading\\n\\n\\n \\n\\n\\n\\n\\n\\n13 Jun 2019\\n\\nPHP 7.4.0 alpha 1 Released\\n\\n\\n\\n\\n\\n     PHP team is glad to announce the release of the first PHP 7.4.0 version, PHP 7.4.0 Alpha 1.\\n     This starts the PHP 7.4 release cycle, the rough outline of which is specified in the\\n     PHP Wiki.\\n     \\nFor source downloads of PHP 7.4.0 Alpha 1 please visit the download page.\\n\\n     Please carefully test this version and report any issues found in the bug reporting system.\\n     \\n\\nPlease DO NOT use this version in production, it is an early test version.\\n\\n\\n         For more information on the new features and other changes, you can read the\\n         NEWS file,\\n         or the UPGRADING\\n         file for a complete list of upgrading notes. These files can also be found in the release archive.\\n     \\n\\n     The next release would be Alpha 2, planned for June 27.\\n     \\nThe signatures for the release can be found in the manifest or on the\\n     QA site.\\n     \\nThank you for helping us make PHP better.\\n\\n\\n\\n\\n30 May 2019\\n\\nPHP 7.1.30 Released\\n\\n\\n\\n\\nThe PHP development team announces the immediate availability of PHP\\n       7.1.30. This is a security release.\\nAll PHP 7.1 users are encouraged to upgrade to this version.\\nFor source downloads of PHP 7.1.30 please visit our downloads page,\\n       Windows source and binaries can be found on windows.php.net/download/.\\n       The list of changes is recorded in the ChangeLog.\\n       \\n\\n\\n\\n\\n30 May 2019\\n\\nPHP 7.2.19 Release Announcement\\n\\n\\n\\n\\nThe PHP development team announces the immediate availability of PHP 7.2.19.\\n     This is a security release which also contains several minor bug fixes.\\nAll PHP 7.2 users are encouraged to upgrade to this version.\\nFor source downloads of PHP 7.2.19 please visit our downloads page,\\n     Windows source and binaries can be found on windows.php.net/download/.\\n     The list of changes is recorded in the ChangeLog.\\n     \\n\\n\\n\\n\\n30 May 2019\\n\\nPHP 7.3.6 Release Announcement\\n\\n\\n\\n\\nThe PHP development team announces the immediate availability of PHP\\n      7.3.6. This is a security release which also contains several bug fixes.\\nAll PHP 7.3 users are encouraged to upgrade to this version.\\nFor source downloads of PHP 7.3.6 please visit our downloads page,\\n      Windows source and binaries can be found on windows.php.net/download/.\\n      The list of changes is recorded in the ChangeLog.\\n      \\n\\n\\n\\n\\n03 May 2019\\n\\nPHP 7.1.29 Released\\n\\n\\n\\n\\nThe PHP development team announces the immediate availability of PHP\\n       7.1.29. This is a security release.\\nAll PHP 7.1 users are encouraged to upgrade to this version.\\nFor source downloads of PHP 7.1.29 please visit our downloads page,\\n       Windows source and binaries can be found on windows.php.net/download/.\\n       The list of changes is recorded in the ChangeLog.\\n       \\n\\n\\n\\n\\n02 May 2019\\n\\nPHP 7.2.18 Released\\n\\n\\n\\n\\nThe PHP development team announces the immediate availability of PHP\\n     7.2.18. This is a security release which also contains several minor bug fixes.\\nAll PHP 7.2 users are encouraged to upgrade to this version.\\nFor source downloads of PHP 7.2.18 please visit our downloads page,\\n     Windows source and binaries can be found on windows.php.net/download/.\\n     The list of changes is recorded in the ChangeLog.\\n     \\n\\n\\n\\n\\n02 May 2019\\n\\nPHP 7.3.5 Release Announcement\\n\\n\\n\\n\\nThe PHP development team announces the immediate availability of PHP\\n      7.3.5. This is a security release which also contains several bug fixes.\\nAll PHP 7.3 users are encouraged to upgrade to this version.\\nFor source downloads of PHP 7.3.5 please visit our downloads page,\\n      Windows source and binaries can be found on windows.php.net/download/.\\n      The list of changes is recorded in the ChangeLog.\\n      \\n\\n\\n\\n\\n22 Nov 2018\\n\\nPHP 7.3.0RC6 Released\\n\\n\\n\\n\\n\\n        The PHP team is glad to announce the presumably last PHP 7.3.0 pre-release, PHP 7.3.0RC6.\\n        The rough outline of the PHP 7.3 release cycle is specified in the\\n        PHP Wiki.\\n      \\n\\n        For source downloads of PHP 7.3.0RC6 please visit the download page.\\n        Windows sources and binaries can be found on windows.php.net/qa/.\\n      \\n\\n        Please carefully test this version and report any issues found in the bug reporting system.\\n      \\n\\nTHIS IS A DEVELOPMENT PREVIEW - DO NOT USE IT IN PRODUCTION!\\n\\n\\n        For more information on the new features and other changes, you can read the\\n        NEWS file,\\n        or the UPGRADING\\n        file for a complete list of upgrading notes. Internal changes are listed in the\\n        UPGRADING.INTERNALS file.\\n        These files can also be found in the release archive.\\n      \\n\\n        The next release would be 7.3.0 (GA), planned for December 6th.\\n      \\n\\n        The signatures for the release can be found in the manifest\\n        or on the QA site.\\n      \\n\\n        Thank you for helping us make PHP better.\\n      \\n\\n\\n\\n\\n08 Nov 2018\\n\\nPHP 7.3.0RC5 Released\\n\\n\\n\\n\\n\\n        The PHP team is glad to announce the next PHP 7.3.0 pre-release, PHP 7.3.0RC5.\\n        The rough outline of the PHP 7.3 release cycle is specified in the\\n        PHP Wiki.\\n      \\n\\n        For source downloads of PHP 7.3.0RC5 please visit the download page.\\n        Windows sources and binaries can be found on windows.php.net/qa/.\\n      \\n\\n        Please carefully test this version and report any issues found in the bug reporting system.\\n      \\n\\nTHIS IS A DEVELOPMENT PREVIEW - DO NOT USE IT IN PRODUCTION!\\n\\n\\n        For more information on the new features and other changes, you can read the\\n        NEWS file,\\n        or the UPGRADING\\n        file for a complete list of upgrading notes. Internal changes are listed in the\\n        UPGRADING.INTERNALS file.\\n        These files can also be found in the release archive.\\n      \\n\\n        The next release would be RC6, planned for November 22nd.\\n      \\n\\n        The signatures for the release can be found in the manifest\\n        or on the QA site.\\n      \\n\\n        Thank you for helping us make PHP better.\\n      \\n\\n\\n\\n\\n25 Oct 2018\\n\\nPHP 7.3.0RC4 Released\\n\\n\\n\\n\\n\\n        The PHP team is glad to announce the next PHP 7.3.0 pre-release, PHP 7.3.0RC4.\\n        The rough outline of the PHP 7.3 release cycle is specified in the\\n        PHP Wiki.\\n      \\n\\n        For source downloads of PHP 7.3.0RC4 please visit the download page.\\n        Windows sources and binaries can be found on windows.php.net/qa/.\\n      \\n\\n        Please carefully test this version and report any issues found in the bug reporting system.\\n      \\n\\nTHIS IS A DEVELOPMENT PREVIEW - DO NOT USE IT IN PRODUCTION!\\n\\n\\n        For more information on the new features and other changes, you can read the\\n        NEWS file,\\n        or the UPGRADING\\n        file for a complete list of upgrading notes. Internal changes are listed in the\\n        UPGRADING.INTERNALS file.\\n        These files can also be found in the release archive.\\n      \\n\\n        The next release would be RC5, planned for November 8th.\\n      \\n\\n        The signatures for the release can be found in the manifest\\n        or on the QA site.\\n      \\n\\n        Thank you for helping us make PHP better.\\n      \\n\\n\\n\\n\\n11 Oct 2018\\n\\nPHP 7.3.0RC3 Released\\n\\n\\n\\n\\n\\n        The PHP team is glad to announce the next PHP 7.3.0 pre-release, PHP 7.3.0RC3.\\n        The rough outline of the PHP 7.3 release cycle is specified in the\\n        PHP Wiki.\\n      \\n\\n        For source downloads of PHP 7.3.0RC3 please visit the download page.\\n        Windows sources and binaries can be found on windows.php.net/qa/.\\n      \\n\\n        Please carefully test this version and report any issues found in the bug reporting system.\\n      \\n\\nTHIS IS A DEVELOPMENT PREVIEW - DO NOT USE IT IN PRODUCTION!\\n\\n\\n        For more information on the new features and other changes, you can read the\\n        NEWS file,\\n        or the UPGRADING\\n        file for a complete list of upgrading notes. Internal changes are listed in the\\n        UPGRADING.INTERNALS file.\\n        These files can also be found in the release archive.\\n      \\n\\n        The next release would be RC4, planned for October 25th.\\n      \\n\\n        The signatures for the release can be found in the manifest\\n        or on the QA site.\\n      \\n\\n        Thank you for helping us make PHP better.\\n      \\n\\n\\n\\n\\n28 Sep 2018\\n\\nPHP 7.3.0RC2 Released\\n\\n\\n\\n\\n\\n        The PHP team is glad to announce the next PHP 7.3.0 pre-release, PHP 7.3.0RC2.\\n        The rough outline of the PHP 7.3 release cycle is specified in the\\n        PHP Wiki.\\n      \\n\\n        For source downloads of PHP 7.3.0RC2 please visit the download page.\\n        Windows sources and binaries can be found on windows.php.net/qa/.\\n      \\n\\n        Please carefully test this version and report any issues found in the bug reporting system.\\n      \\n\\nTHIS IS A DEVELOPMENT PREVIEW - DO NOT USE IT IN PRODUCTION!\\n\\n\\n        For more information on the new features and other changes, you can read the\\n        NEWS file,\\n        or the UPGRADING\\n        file for a complete list of upgrading notes. Internal changes are listed in the\\n        UPGRADING.INTERNALS file.\\n        These files can also be found in the release archive.\\n      \\n\\n        The next release would be RC3, planned for October 11th.\\n      \\n\\n        The signatures for the release can be found in the manifest\\n        or on the QA site.\\n      \\n\\n        Thank you for helping us make PHP better.\\n      \\n\\n\\n\\n\\n13 Sep 2018\\n\\nPHP 7.3.0RC1 Released\\n\\n\\n\\n\\n\\n        The PHP team is glad to announce the release of the next PHP 7.3.0 pre-release, PHP 7.3.0RC1.\\n        The rough outline of the PHP 7.3 release cycle is specified in the\\n        PHP Wiki.\\n      \\n\\n        For source downloads of PHP 7.3.0RC1 please visit the download page.\\n        Windows sources and binaries can be found on windows.php.net/qa/.\\n      \\n\\n        Please carefully test this version and report any issues found in the bug reporting system.\\n      \\n\\nTHIS IS A DEVELOPMENT PREVIEW - DO NOT USE IT IN PRODUCTION!\\n\\n\\n        For more information on the new features and other changes, you can read the\\n        NEWS file,\\n        or the UPGRADING\\n        file for a complete list of upgrading notes. Internal changes are listed in the\\n        UPGRADING.INTERNALS file.\\n        These files can also be found in the release archive.\\n      \\n\\n        The next release would be RC2, planned for September 27th.\\n      \\n\\n        The signatures for the release can be found in the manifest\\n        or on the QA site.\\n      \\n\\n        Thank you for helping us make PHP better.\\n      \\n\\n\\n\\n\\n30 Aug 2018\\n\\nPHP 7.3.0.beta3 Released\\n\\n\\n\\n\\n\\n        The PHP team is glad to announce the release of the seventh PHP 7.3.0 version, PHP 7.3.0beta3.\\n        The rough outline of the PHP 7.3 release cycle is specified in the\\n        PHP Wiki.\\n      \\n\\n        For source downloads of PHP 7.3.0beta3 please visit the download page.\\n        Windows sources and binaries can be found on windows.php.net/qa/.\\n      \\n\\n        Please carefully test this version and report any issues found in the bug reporting system.\\n      \\n\\nTHIS IS A DEVELOPMENT PREVIEW - DO NOT USE IT IN PRODUCTION!\\n\\n\\n        For more information on the new features and other changes, you can read the\\n        NEWS file,\\n        or the UPGRADING\\n        file for a complete list of upgrading notes. Internal changes are listed in the\\n        UPGRADING.INTERNALS file.\\n        These files can also be found in the release archive.\\n      \\n\\n        The next release would be RC1, planned for September 13th.\\n      \\n\\n        The signatures for the release can be found in the manifest\\n        or on the QA site.\\n      \\n\\n        Thank you for helping us make PHP better.\\n      \\n\\n\\n\\n\\n16 Aug 2018\\n\\nPHP 7.3.0.beta2 Released\\n\\n\\n\\n\\n\\n        The PHP team is glad to announce the release of the sixth PHP 7.3.0 version, PHP 7.3.0beta2.\\n        The rough outline of the PHP 7.3 release cycle is specified in the\\n        PHP Wiki.\\n      \\n\\n        For source downloads of PHP 7.3.0beta2 please visit the download page.\\n        Windows sources and binaries can be found on windows.php.net/qa/.\\n      \\n\\n        Please carefully test this version and report any issues found in the bug reporting system.\\n      \\n\\nTHIS IS A DEVELOPMENT PREVIEW - DO NOT USE IT IN PRODUCTION!\\n\\n\\n        For more information on the new features and other changes, you can read the\\n        NEWS file,\\n        or the UPGRADING\\n        file for a complete list of upgrading notes. Internal changes are listed in the\\n        UPGRADING.INTERNALS file.\\n        These files can also be found in the release archive.\\n      \\n\\n        The next release would be Beta 3, planned for August 30th.\\n      \\n\\n        The signatures for the release can be found in the manifest\\n        or on the QA site.\\n      \\n\\n        Thank you for helping us make PHP better.\\n      \\n\\n\\n\\n\\n02 Aug 2018\\n\\nPHP 7.3.0.beta1 Released\\n\\n\\n\\n\\n\\n        The PHP team is glad to announce the release of the fifth PHP 7.3.0 version, PHP 7.3.0beta1.\\n        The rough outline of the PHP 7.3 release cycle is specified in the\\n        PHP Wiki.\\n      \\n\\n        For source downloads of PHP 7.3.0beta1 please visit the download page.\\n        Windows sources and binaries can be found on windows.php.net/qa/.\\n      \\n\\n        Please carefully test this version and report any issues found in the bug reporting system.\\n      \\n\\nTHIS IS A DEVELOPMENT PREVIEW - DO NOT USE IT IN PRODUCTION!\\n\\n\\n        For more information on the new features and other changes, you can read the\\n        NEWS file,\\n        or the UPGRADING\\n        file for a complete list of upgrading notes. These files can also be found in the release archive.\\n      \\n\\n        The next release would be Beta 2, planned for August 16th.\\n      \\n\\n        The signatures for the release can be found in the manifest\\n        or on the QA site.\\n      \\n\\n        Thank you for helping us make PHP better.\\n      \\n\\n\\n\\n\\n19 Jul 2018\\n\\nPHP 7.3.0alpha4 Released\\n\\n\\n\\n\\n\\n        The PHP team is glad to announce the release of the fourth PHP 7.3.0 version, PHP 7.3.0alpha4.\\n        The rough outline of the PHP 7.3 release cycle is specified in the\\n        PHP Wiki.\\n      \\n\\n        For source downloads of PHP 7.3.0alpha4 please visit the download page.\\n        Windows sources and binaries can be found on windows.php.net/qa/.\\n      \\n\\n        Please carefully test this version and report any issues found in the bug reporting system.\\n      \\n\\nTHIS IS A DEVELOPMENT PREVIEW - DO NOT USE IT IN PRODUCTION!\\n\\n\\n        For more information on the new features and other changes, you can read the\\n        NEWS file,\\n        or the UPGRADING\\n        file for a complete list of upgrading notes. These files can also be found in the release archive.\\n      \\n\\n        The next release would be Beta 1, planned for August 2nd.\\n      \\n\\n        The signatures for the release can be found in the manifest or on the QA site.\\n      \\n\\n        Thank you for helping us make PHP better.\\n      \\n\\n\\n\\n\\n05 Jul 2018\\n\\nPHP 7.3.0 alpha 3 Released\\n\\n\\n\\n\\n\\n      The PHP team is glad to announce the release of the third PHP 7.3.0 version, PHP 7.3.0 Alpha 3.\\n      The rough outline of the PHP 7.3 release cycle is specified in the\\n      PHP Wiki.\\n     \\n\\n      For source downloads of PHP 7.3.0 Alpha 3 please visit the download page.\\n      Windows sources and binaries can be found on windows.php.net/qa/.\\n     \\n\\n      Please carefully test this version and report any issues found in the bug reporting system.\\n     \\n\\nTHIS IS A DEVELOPMENT PREVIEW - DO NOT USE IT IN PRODUCTION!\\n\\n\\n      For more information on the new features and other changes, you can read the\\n      NEWS file,\\n      or the UPGRADING\\n      file for a complete list of upgrading notes. These files can also be found in the release archive.\\n     \\n\\n      The next release would be Beta 1, planned for July 19th.\\n     \\n\\n      The signatures for the release can be found in the manifest or on the QA site.\\n     \\n\\n      Thank you for helping us make PHP better.\\n     \\n\\n\\n\\n\\n21 Jun 2018\\n\\nPHP 7.3.0 alpha 2 Released\\n\\n\\n\\n\\n\\n      The PHP team is glad to announce the release of the second PHP 7.3.0 version, PHP 7.3.0 Alpha 2.\\n      The rough outline of the PHP 7.3 release cycle is specified in the\\n      PHP Wiki.\\n     \\n\\n      For source downloads of PHP 7.3.0 Alpha 2 please visit the download page.\\n      Windows sources and binaries can be found on windows.php.net/qa/.\\n     \\n\\n      Please carefully test this version and report any issues found in the bug reporting system.\\n     \\n\\nTHIS IS A DEVELOPMENT PREVIEW - DO NOT USE IT IN PRODUCTION!\\n\\n\\n      For more information on the new features and other changes, you can read the\\n      NEWS file,\\n      or the UPGRADING\\n      file for a complete list of upgrading notes. These files can also be found in the release archive.\\n     \\n\\n      The next release would be Alpha 3, planned for July 5.\\n     \\n\\n      The signatures for the release can be found in the manifest or on the QA site.\\n     \\n\\n      Thank you for helping us make PHP better.\\n     \\n\\n\\n\\n\\n07 Jun 2018\\n\\nPHP 7.3.0 alpha 1 Released\\n\\n\\n\\n\\n\\n     PHP team is glad to announce the release of the first PHP 7.3.0 version, PHP 7.3.0 Alpha 1.\\n\\t This starts the PHP 7.3 release cycle, the rough outline of which is specified in the\\n\\t PHP Wiki.\\n     \\nFor source downloads of PHP 7.3.0 Alpha 1 please visit the download page.\\n\\n     Please carefully test this version and report any issues found in the bug reporting system.\\n     \\n\\nPlease DO NOT use this version in production, it is an early test version.\\n\\n\\n\\t     For more information on the new features and other changes, you can read the\\n\\t     NEWS file,\\n\\t     or the UPGRADING\\n\\t     file for a complete list of upgrading notes. These files can also be found in the release archive.\\n\\t \\n\\n     The next release would be Alpha 2, planned for June 21.\\n     \\nThe signatures for the release can be found in the manifest or on the QA site.\\n     \\nThank you for helping us make PHP better.\\n\\n\\n\\n\\n01 Feb 2018\\n\\nPHP 7.2.2 Released\\n\\n\\n\\n\\nThe PHP development team announces the immediate availability of PHP\\n      7.2.2. This is a bugfix release, with several bug fixes included.\\nAll PHP 7.2 users are encouraged to upgrade to this version.\\nFor source downloads of PHP 7.2.2 please visit our downloads page,\\n      Windows source and binaries can be found on windows.php.net/download/.\\n      The list of changes is recorded in the ChangeLog.\\n      \\n\\n\\n\\n\\n12 Oct 2017\\n\\nPHP 7.2.0 Release Candidate 4 Released\\n\\n\\n\\n\\n\\n     The PHP development team announces the immediate availability of PHP 7.2.0 RC4.\\n     This release is the fourth Release Candidate for 7.2.0.\\n     All users of PHP are encouraged to test this version carefully, and report any bugs\\n     and incompatibilities in the bug tracking system.\\n     \\nTHIS IS A DEVELOPMENT PREVIEW - DO NOT USE IT IN PRODUCTION!\\n\\n     For more information on the new features and other changes, you can read the\\n     NEWS file,\\n     or the UPGRADING\\n     file for a complete list of upgrading notes. These files can also be found in the release archive.\\n     \\n\\n     For source downloads of PHP 7.2.0 Release Candidate 4 please visit the\\n     download page,\\n     Windows sources and binaries can be found at\\n     windows.php.net/qa/.\\n     \\n\\n     The next Release Candidate will be announced on the 26th of October.\\n     You can also read the full list of planned releases on\\n     our wiki.\\n     \\nThank you for helping us make PHP better.\\n\\n\\n\\n\\n28 Sep 2017\\n\\nPHP 7.2.0 Release Candidate 3 Released\\n\\n\\n\\n\\n\\n     The PHP development team announces the immediate availability of PHP 7.2.0 RC3.\\n     This release is the third Release Candidate for 7.2.0.\\n     All users of PHP are encouraged to test this version carefully, and report any bugs\\n     and incompatibilities in the bug tracking system.\\n     \\nTHIS IS A DEVELOPMENT PREVIEW - DO NOT USE IT IN PRODUCTION!\\n\\n     For more information on the new features and other changes, you can read the\\n     NEWS file,\\n     or the UPGRADING\\n     file for a complete list of upgrading notes. These files can also be found in the release archive.\\n     \\n\\n     For source downloads of PHP 7.2.0 Release Candidate 3 please visit the\\n     download page,\\n     Windows sources and binaries can be found at\\n     windows.php.net/qa/.\\n     \\n\\n     The next Release Candidate will be announced on the 12th of October.\\n     You can also read the full list of planned releases on\\n     our wiki.\\n     \\nThank you for helping us make PHP better.\\n\\n\\n\\n\\n31 Aug 2017\\n\\nPHP 7.2.0 Release Candidate 1 Released\\n\\n\\n\\n\\n\\n      The PHP development team announces the immediate availability of PHP 7.2.0 Release\\n      Candidate 1. This release is the first Release Candidate for 7.2.0.\\n      All users of PHP are encouraged to test this version carefully, and report any bugs\\n      and incompatibilities in the bug tracking system.\\n      \\nTHIS IS A DEVELOPMENT PREVIEW - DO NOT USE IT IN PRODUCTION!\\n\\n      For more information on the new features and other changes, you can read the\\n      NEWS file,\\n      or the UPGRADING\\n      file for a complete list of upgrading notes. These files can also be found in the release archive.\\n      \\n\\n      For source downloads of PHP 7.2.0 Release Candidate 1 please visit the\\n      download page,\\n      Windows sources and binaries can be found at\\n      windows.php.net/qa/.\\n      \\n\\n      The second Release Candidate will be released on the 14th of September.\\n      You can also read the full list of planned releases on\\n      our wiki.\\n      \\nThank you for helping us make PHP better.\\n\\n\\n\\n\\n17 Aug 2017\\n\\nPHP 7.2.0 Beta 3 Released\\n\\n\\n\\n\\n\\n      The PHP development team announces the immediate availability of PHP 7.2.0 Beta 3.\\n      This release is the third and final beta for 7.2.0. All users of PHP are encouraged\\n      to test this version carefully, and report any bugs and incompatibilities in the\\n      bug tracking system.\\n      \\nTHIS IS A DEVELOPMENT PREVIEW - DO NOT USE IT IN PRODUCTION!\\n\\n      For more information on the new features and other changes, you can read the\\n      NEWS file,\\n      or the UPGRADING\\n      file for a complete list of upgrading notes. These files can also be found in the release archive.\\n      \\n\\n      For source downloads of PHP 7.2.0 Beta 3 please visit the\\n      download page,\\n      Windows sources and binaries can be found at\\n      windows.php.net/qa/.\\n      \\n\\n      The first Release Candidate will be released on the 31th of August.\\n      You can also read the full list of planned releases on\\n      our wiki.\\n      \\nThank you for helping us make PHP better.\\n\\n\\n\\n\\n06 Jul 2017\\n\\nPHP 7.2.0 Alpha 3 Released\\n\\n\\n\\n\\nThe PHP development team announces the immediate availability of PHP 7.2.0 Alpha 3.\\n     This release contains fixes and improvements relative to Alpha 2.\\n     All users of PHP are encouraged to test this version carefully,\\n     and report any bugs and incompatibilities in the\\n     bug tracking system.\\nTHIS IS A DEVELOPMENT PREVIEW - DO NOT USE IT IN PRODUCTION!\\nFor information on new features and other changes, you can read the\\n     NEWS file,\\n     or the UPGRADING file\\n     for a complete list of upgrading notes. These files can also be found in the release archive.\\nFor source downloads of PHP 7.2.0 Alpha 3 please visit the download page,\\n     Windows sources and binaries can be found on windows.php.net/qa/.\\nThe first beta will be released on the 20th of July. You can also read the full list of planned releases on our\\n     wiki.\\nThank you for helping us make PHP better.\\n\\n\\nOlder News Entries \\n\\n\\n Upcoming conferencesInternational PHP Conference 2019 - Fall EditionCakeFest 2019 Tokyo Japan, the Official CakePHP ConferenceCoderCruise 2019PHPConf.Asia 2019\\nUser Group Events\\nSpecial Thanks\\n\\nSocial media\\n\\n\\n\\n\\n\\n              @official_php\\n            \\n\\n\\n\\n\\n\\n\\n\\n\\n\\n\\nCopyright © 2001-2019 The PHP Group\\nMy PHP.net\\nContact\\nOther PHP.net sites\\nPrivacy policy\\n\\n\\n\\n\\n\\n\\n\\n\\n\\n\\n\\n\\n\\n\\n\\n\\n\""
      ]
     },
     "execution_count": 49,
     "metadata": {},
     "output_type": "execute_result"
    }
   ],
   "source": [
    "contentes"
   ]
  },
  {
   "cell_type": "code",
   "execution_count": 57,
   "metadata": {},
   "outputs": [
    {
     "data": {
      "text/plain": [
       "['ConditionalFreqDist', 'FreqDist']"
      ]
     },
     "execution_count": 57,
     "metadata": {},
     "output_type": "execute_result"
    }
   ],
   "source": [
    "[i for i in dir(nltk) if 'Freq' in i]"
   ]
  },
  {
   "cell_type": "code",
   "execution_count": 58,
   "metadata": {},
   "outputs": [],
   "source": [
    "count1=nltk.FreqDist(p)"
   ]
  },
  {
   "cell_type": "code",
   "execution_count": 59,
   "metadata": {},
   "outputs": [
    {
     "data": {
      "image/png": "[encoded data removed]",
      "text/plain": [
       "<Figure size 432x288 with 1 Axes>"
      ]
     },
     "metadata": {
      "needs_background": "light"
     },
     "output_type": "display_data"
    }
   ],
   "source": [
    "count1.plot(20)#top 20 most repeated words"
   ]
  },
  {
   "cell_type": "code",
   "execution_count": null,
   "metadata": {},
   "outputs": [],
   "source": []
  }
 ],
 "metadata": {
  "kernelspec": {
   "display_name": "Python 3",
   "language": "python",
   "name": "python3"
  },
  "language_info": {
   "codemirror_mode": {
    "name": "ipython",
    "version": 3
   },
   "file_extension": ".py",
   "mimetype": "text/x-python",
   "name": "python",
   "nbconvert_exporter": "python",
   "pygments_lexer": "ipython3",
   "version": "3.7.3"
  }
 },
 "nbformat": 4,
 "nbformat_minor": 2
}
