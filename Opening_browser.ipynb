{
 "cells": [
  {
   "cell_type": "code",
   "execution_count": 1,
   "metadata": {},
   "outputs": [
    {
     "name": "stdout",
     "output_type": "stream",
     "text": [
      "Type whatever you want to search: hello\n"
     ]
    }
   ],
   "source": [
    "import pyautogui as p\n",
    "import webbrowser as w\n",
    "import time\n",
    "#Taking input from user\n",
    "x = input(\"Type whatever you want to search: \")\n",
    "#Delay for stability\n",
    "time.sleep(1)\n",
    "w.open('www.google.com')\n",
    "#Delay to let the page load\n",
    "time.sleep(5)\n",
    "#Moves the cursor to the search bar\n",
    "p.moveTo(550,420,0.3)\n",
    "#Presses enter\n",
    "p.press('enter')\n",
    "#Types the input provided\n",
    "p.typewrite(x,0.1)\n",
    "#Delay for stability\n",
    "time.sleep(1)\n",
    "#Presses enter\n",
    "p.press('enter')"
   ]
  },
  {
   "cell_type": "code",
   "execution_count": 2,
   "metadata": {},
   "outputs": [
    {
     "name": "stdout",
     "output_type": "stream",
     "text": [
      "Type whatever you want to search: pop\n"
     ]
    },
    {
     "data": {
      "text/plain": [
       "True"
      ]
     },
     "execution_count": 2,
     "metadata": {},
     "output_type": "execute_result"
    }
   ],
   "source": [
    "x = input(\"Type whatever you want to search: \")\n",
    " \n",
    "link = 'https://www.google.com/search?q={}'.format(x)\n",
    " \n",
    "w.open(link)"
   ]
  },
  {
   "cell_type": "code",
   "execution_count": null,
   "metadata": {},
   "outputs": [],
   "source": []
  }
 ],
 "metadata": {
  "kernelspec": {
   "display_name": "Python 3",
   "language": "python",
   "name": "python3"
  },
  "language_info": {
   "codemirror_mode": {
    "name": "ipython",
    "version": 3
   },
   "file_extension": ".py",
   "mimetype": "text/x-python",
   "name": "python",
   "nbconvert_exporter": "python",
   "pygments_lexer": "ipython3",
   "version": "3.7.3"
  }
 },
 "nbformat": 4,
 "nbformat_minor": 2
}
