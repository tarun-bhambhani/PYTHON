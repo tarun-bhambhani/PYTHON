{
 "cells": [
  {
   "cell_type": "code",
   "execution_count": 3,
   "metadata": {},
   "outputs": [
    {
     "name": "stdout",
     "output_type": "stream",
     "text": [
      "Type the name of receiver: 9680125763\n",
      "Type message: hi\n",
      "Enter HOUR: 00\n",
      "Enter MINUTE: 44\n",
      "The message will be sent at the given time\n"
     ]
    }
   ],
   "source": [
    "#Importing the library needed\n",
    "import pyautogui as p\n",
    "import time\n",
    "import webbrowser as w\n",
    "x = input(\"Type the name of receiver: \").strip()\n",
    "y = input(\"Type message: \").strip()\n",
    "s = int(input(\"Enter HOUR: \"))\n",
    "c = int(input(\"Enter MINUTE: \"))\n",
    "print(\"The message will be sent at the given time\")\n",
    "q = s\n",
    "if (s == 00):\n",
    "    q = 24\n",
    "if (c == 00):\n",
    "    c = 60\n",
    "    s = q-1\n",
    "while True:\n",
    "    l = time.localtime(time.time())\n",
    "    if(l.tm_hour == s)&(l.tm_min == c-1):\n",
    "        w.open('https://web.whatsapp.com/')\n",
    "        time.sleep(20)\n",
    "        p.click(76,180,interval=0.5,button='left')\n",
    "        p.typewrite(x,0.1)\n",
    "        p.press('enter')\n",
    "        time.sleep(5)\n",
    "        \n",
    "        p.typewrite(y,0.1)\n",
    "        p.press('enter')\n",
    "        break;"
   ]
  },
  {
   "cell_type": "code",
   "execution_count": null,
   "metadata": {},
   "outputs": [],
   "source": []
  }
 ],
 "metadata": {
  "kernelspec": {
   "display_name": "Python 3",
   "language": "python",
   "name": "python3"
  },
  "language_info": {
   "codemirror_mode": {
    "name": "ipython",
    "version": 3
   },
   "file_extension": ".py",
   "mimetype": "text/x-python",
   "name": "python",
   "nbconvert_exporter": "python",
   "pygments_lexer": "ipython3",
   "version": "3.7.3"
  }
 },
 "nbformat": 4,
 "nbformat_minor": 2
}
