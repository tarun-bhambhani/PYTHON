{
 "cells": [
  {
   "cell_type": "code",
   "execution_count": 47,
   "metadata": {},
   "outputs": [],
   "source": [
    "import tweepy\n",
    "from textblob import TextBlob\n",
    "import matplotlib.pyplot as plt"
   ]
  },
  {
   "cell_type": "code",
   "execution_count": 3,
   "metadata": {},
   "outputs": [],
   "source": [
    "#storing consumer key and token/secret \n",
    "consumer_key = \"e721eHgsyn8hCCPSJqgf9Rx7O\" \n",
    "consumer_secret = \"RZVdpcAXMRYHiJRfJ8r1NT64C7cCAd6QoUDUBMKx9voHNaRi7E\"\n",
    "\n",
    "#access key and access key store\n",
    "access_key = \"1025341530708566016-N1lXGWjV2QtBbymnQaocLVmMLqqx00\"\n",
    "access_secret = \"ouWEwEZMaKukpiMuM5u1IKUwSHNZI9X64JkV4BDfx7jaq\""
   ]
  },
  {
   "cell_type": "code",
   "execution_count": 59,
   "metadata": {},
   "outputs": [],
   "source": [
    "# Function to extract tweets \n",
    "def get_tweets(username): \n",
    "          \n",
    "        # Authorization to consumer key and consumer secret \n",
    "        auth = tweepy.OAuthHandler(consumer_key, consumer_secret) \n",
    "  \n",
    "        # Access to user's access key and access secret \n",
    "        auth.set_access_token(access_key, access_secret) \n",
    "  \n",
    "        # Calling api \n",
    "        api = tweepy.API(auth) \n",
    "        \n",
    "        #now api is connected and you can search the topic\n",
    "        tweets=api.search('virat',count=10)\n",
    "        \n",
    "        #printing in text form onlu\n",
    "        pos=0\n",
    "        neg=0\n",
    "        neu=0\n",
    "        \n",
    "        for tweet in tweets:\n",
    "            analysis=TextBlob(tweet.text)\n",
    "            if analysis.sentiment.polarity>0:\n",
    "                pos=pos+1\n",
    "            elif analysis.sentiment.polarity<0:\n",
    "                neg=neg+1\n",
    "            else:\n",
    "                neu=neu+1\n",
    "        for tweet in tweets:\n",
    "            print(tweet.text)\n",
    "            analysis=TextBlob(tweet.text)\n",
    "            print(analysis.sentiment)\n",
    "  \n",
    "       \n",
    "        tweets = api.user_timeline(screen_name=username) \n",
    "  \n",
    "        # Empty Array \n",
    "        tmp=[]  \n",
    "  \n",
    "        # create array of tweet information: username,  \n",
    "        # tweet id, date/time, text \n",
    "        tweets_for_csv = [tweet.text for tweet in tweets] # CSV file created  \n",
    "        for j in tweets_for_csv: \n",
    "  \n",
    "            # Appending tweets to the empty array tmp \n",
    "            tmp.append(j)  \n",
    "        print(neu,pos,neg)\n",
    "        \n",
    "        plt.xlabel('sentiments')\n",
    "        plt.ylabel('count')\n",
    "        plt.bar([\"positive\",\"negative\",\"neutral\"],[pos,neg,neu])\n",
    "        \n",
    "        \n",
    "         # Printing the tweets \n",
    "        return tmp \n",
    "  "
   ]
  },
  {
   "cell_type": "code",
   "execution_count": 60,
   "metadata": {},
   "outputs": [
    {
     "name": "stdout",
     "output_type": "stream",
     "text": [
      "RT @KamranZaidiPTI: As a Pakistani🇵🇰 I`m your fan Virat Kohli.... Your mind set your team`s mind and your performance was out class vs Paki…\n",
      "Sentiment(polarity=0.0, subjectivity=0.0)\n",
      "RT @sanjaymanjrekar: While talking about Bhuvi’s injury, Virat said we have Shami in the reserves, just in case. I could see the pride in h…\n",
      "Sentiment(polarity=0.0, subjectivity=0.0)\n",
      "RT @JoBhejiThiDuaa: 30 seconds of Virat Kohli being high as hell https://t.co/PbcKDxRqbw\n",
      "Sentiment(polarity=0.16, subjectivity=0.5399999999999999)\n",
      "RT @ESPNcricinfo: Replays showed daylight between bat and ball, so why did Virat Kohli walk? 🤔 #CWC19 #INDvPAK https://t.co/QPB1IsSaT3\n",
      "Sentiment(polarity=0.0, subjectivity=0.0)\n",
      "RT @thefield_in: #INDvAUS #CWC19 \n",
      "\n",
      "‘Lovely gesture’: Steve Smith hails Virat Kohli telling Indian fans to stop jeering him at The Oval\n",
      "\n",
      "htt…\n",
      "Sentiment(polarity=0.5, subjectivity=0.75)\n",
      "RT @JoBhejiThiDuaa: 30 seconds of Virat Kohli being high as hell https://t.co/PbcKDxRqbw\n",
      "Sentiment(polarity=0.16, subjectivity=0.5399999999999999)\n",
      "RT @benstokes38: I may delete Twitter just so I don’t have to see another tweet reading “He’s saying Ben Stokes”(when he’s clearly not😆)in…\n",
      "Sentiment(polarity=0.10000000000000002, subjectivity=0.3833333333333333)\n",
      "RT @ESPNcricinfo: Replays showed daylight between bat and ball, so why did Virat Kohli walk? 🤔 #CWC19 #INDvPAK https://t.co/QPB1IsSaT3\n",
      "Sentiment(polarity=0.0, subjectivity=0.0)\n",
      "RT @KamranZaidiPTI: As a Pakistani🇵🇰 I`m your fan Virat Kohli.... Your mind set your team`s mind and your performance was out class vs Paki…\n",
      "Sentiment(polarity=0.0, subjectivity=0.0)\n",
      "5 4 0\n"
     ]
    },
    {
     "data": {
      "image/png": "[encoded data removed]",
      "text/plain": [
       "<Figure size 432x288 with 1 Axes>"
      ]
     },
     "metadata": {
      "needs_background": "light"
     },
     "output_type": "display_data"
    }
   ],
   "source": [
    "t=get_tweets(\"infinite_lolly\")"
   ]
  },
  {
   "cell_type": "code",
   "execution_count": 24,
   "metadata": {},
   "outputs": [],
   "source": [
    "f= open(\"tweets.txt\",\"w+\")\n",
    "for i in range(20):\n",
    "    f.write(str(t[i]))\n",
    "f.close()\n",
    "\n"
   ]
  },
  {
   "cell_type": "code",
   "execution_count": 19,
   "metadata": {},
   "outputs": [
    {
     "data": {
      "text/plain": [
       "20"
      ]
     },
     "execution_count": 19,
     "metadata": {},
     "output_type": "execute_result"
    }
   ],
   "source": [
    "len(t)"
   ]
  },
  {
   "cell_type": "code",
   "execution_count": 27,
   "metadata": {},
   "outputs": [],
   "source": [
    "f=open(\"tweets.txt\", \"r\")"
   ]
  },
  {
   "cell_type": "code",
   "execution_count": 29,
   "metadata": {},
   "outputs": [
    {
     "data": {
      "text/plain": [
       "\"Fighting disease is like fighting fire. It’s not enough to put out most of it — you have to get it all. @Rotary’s g… https://t.co/Zio9nWxsUiThe fight against malaria is one of the greatest success stories in global health — but progress has slowed in rece… https://t.co/BMtUZu6QTnI was moved by this story: Bob’s daughter has Down syndrome, which puts her at a higher risk for dementia. Motivate… https://t.co/UbTDVcDZWQOur foundation’s Day of Caring is one of my dad’s favorite days of the year. I know he can’t wait to hear what our… https://t.co/s81X5MgeADI’m always amazed by the disconnect between what we see in the news and the reality of the world around us. As my l… https://t.co/F6OwugM850Thank you for being a friend, Warren: https://t.co/4hhwUvkGox #BestFriendsDay https://t.co/1hmF1WE5gCI’m thrilled about the elimination of malaria from Algeria and Argentina. This news gives me hope that we’ll one da… https://t.co/m4oWhAVbzHDavid Letterman’s newest season of #MyNextGuest has a lot of fascinating guests, but there’s one clear standout for… https://t.co/1GmkRjkJx9Patience: it's a valuable skill for investing and for training new employees at Dairy Queen. https://t.co/654kxGktaOWarren and I recently picked up a @DairyQueen shift. I think I may have been a quicker study in the Blizzard depart… https://t.co/9v7PfyscxeA powerful call to action from @angienguku on the eve of #WD2019. @melindagates and I are impatient for every mothe… https://t.co/0x1RJk2E5DIf you’re working on digital biomarkers for Alzheimer's disease and related dementias, I encourage you to apply for… https://t.co/HgILGvvgDdCongratulations to the first round of award recipients from @TheADDF’s Diagnostics Accelerator. Your ideas are gett… https://t.co/nAUWkUUpd5Identifying candidates for clinical trials more quickly is essential in the fight against Alzheimer’s. That’s why I… https://t.co/IinZ9zQ1KBI recently sat down with one of my favorite authors, Jared Diamond. His perspective on political polarization reall… https://t.co/7V2lrpkhm9Breakthrough Energy Ventures – Europe will be a catalyst for innovative solutions to fight climate change. We have… https://t.co/hvdDw3DW3mWe need the collective effort of governments, individuals, and the private sector to tackle climate change. I’m exc… https://t.co/apqvhzQZZ9I can’t recommend these books highly enough: https://t.co/h9J71vWAcz https://t.co/3gOdcA4OaXLast year I recommended “Bad Blood,” which is about the rise and fall of Theranos. This year I’m recommending “Nine… https://t.co/BXNxYzx70SCongratulations @NarendraModi on a remarkable win in #IndianElections2019. Your continued commitment to improve hea… https://t.co/5ylNvZXOpn\""
      ]
     },
     "execution_count": 29,
     "metadata": {},
     "output_type": "execute_result"
    }
   ],
   "source": [
    "f.read()"
   ]
  },
  {
   "cell_type": "code",
   "execution_count": null,
   "metadata": {},
   "outputs": [],
   "source": []
  }
 ],
 "metadata": {
  "kernelspec": {
   "display_name": "Python 3",
   "language": "python",
   "name": "python3"
  },
  "language_info": {
   "codemirror_mode": {
    "name": "ipython",
    "version": 3
   },
   "file_extension": ".py",
   "mimetype": "text/x-python",
   "name": "python",
   "nbconvert_exporter": "python",
   "pygments_lexer": "ipython3",
   "version": "3.7.3"
  }
 },
 "nbformat": 4,
 "nbformat_minor": 2
}
